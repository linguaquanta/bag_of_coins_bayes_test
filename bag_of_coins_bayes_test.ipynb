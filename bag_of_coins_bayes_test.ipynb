{
 "cells": [
  {
   "cell_type": "markdown",
   "id": "31e847e3",
   "metadata": {},
   "source": [
    "This notebook is a test of Bayesian probability by simulating the tossing of a random coin sampled uniformly from a bag of two coins: one fair, one biased. The question is: given that the first toss of the (unknown) coin lands heads, is the empirical probability that the second toss land heads equivalent to the Bayesian estimate?"
   ]
  },
  {
   "cell_type": "code",
   "execution_count": 1,
   "id": "6d387735",
   "metadata": {},
   "outputs": [
    {
     "data": {
      "text/latex": [
       "The probability that the biased coin land heads is $p=0.75$. Throughout, a heads outcome is represented by $0$ and tails by $1$. \n",
       "Sorry, y'all, I studied quantum information, where a particle spinning upward is represented by $|0\\rangle$ and spinning \n",
       "downward is represented by $|1\\rangle$, for too long.\n",
       "\n",
       "With this value for the bias (heads) probability, the Bayesian estimate for the probability that the second toss\n",
       "land heads also is $0.65$, in contrast with the frequentist estimate of $0.625$. We may need to increase the bias\n",
       "probability in order to have a wider spread between these two predictions.\n"
      ],
      "text/plain": [
       "<IPython.core.display.Latex object>"
      ]
     },
     "metadata": {},
     "output_type": "display_data"
    }
   ],
   "source": [
    "%%latex\n",
    "The probability that the biased coin land heads is $p=0.75$. Throughout, a heads outcome is represented by $0$ and tails by $1$. \n",
    "Sorry, y'all, I studied quantum information, where a particle spinning upward is represented by $|0\\rangle$ and spinning \n",
    "downward is represented by $|1\\rangle$, for too long.\n",
    "\n",
    "With this value for the bias (heads) probability, the Bayesian estimate for the probability that the second toss\n",
    "land heads also is $0.65$, in contrast with the frequentist estimate of $0.625$. We may need to increase the bias\n",
    "probability in order to have a wider spread between these two predictions."
   ]
  },
  {
   "cell_type": "code",
   "execution_count": 2,
   "id": "0b2dfc5f",
   "metadata": {},
   "outputs": [],
   "source": [
    "import numpy as np"
   ]
  },
  {
   "cell_type": "code",
   "execution_count": 33,
   "id": "9f4158b2",
   "metadata": {},
   "outputs": [],
   "source": [
    "class Coin:\n",
    "    \n",
    "    def __init__(self, bias):\n",
    "        \n",
    "        self._bias = bias\n",
    "    \n",
    "    def toss(self):\n",
    "        \n",
    "        return np.random.choice([0,1], 1, p=[self._bias, 1.0-self._bias])[0]\n",
    "    \n",
    "class Bag:\n",
    "    \n",
    "    def __init__(self, coin_1, coin_2):\n",
    "        \n",
    "        self.coin_1 = coin_1\n",
    "        self.coin_2 = coin_2\n",
    "        \n",
    "    def draw_coin(self):\n",
    "        \n",
    "        random_coin = np.random.choice([self.coin_1, self.coin_2], 1, p=[0.5,0.5])[0]\n",
    "        return random_coin"
   ]
  },
  {
   "cell_type": "code",
   "execution_count": 39,
   "id": "f61ae163",
   "metadata": {},
   "outputs": [],
   "source": [
    "fair_coin = Coin(0.5)\n",
    "biased_coin = Coin(0.75)\n",
    "bag = Bag(fair_coin, biased_coin)"
   ]
  },
  {
   "cell_type": "code",
   "execution_count": 40,
   "id": "9c31a877",
   "metadata": {},
   "outputs": [],
   "source": [
    "def toss_coin_until_heads(coin):\n",
    "    \n",
    "    result = 1\n",
    "    while result == 1:\n",
    "        result = coin.toss()"
   ]
  },
  {
   "cell_type": "markdown",
   "id": "49eedfb1",
   "metadata": {},
   "source": [
    "Experiment #1:\n",
    "\n",
    "    (1) sample a coin at random from the bag\n",
    "    (2) toss it until it lands heads for the first time\n",
    "    (3) count the number of times it actually lands heads"
   ]
  },
  {
   "cell_type": "code",
   "execution_count": 88,
   "id": "e107e8db",
   "metadata": {},
   "outputs": [],
   "source": [
    "outcomes = list()\n",
    "num_trials = 200000\n",
    "for i in range(num_trials):\n",
    "    \n",
    "    rand_coin = bag.draw_coin()\n",
    "    toss_coin_until_heads(rand_coin)\n",
    "    outcomes.append(rand_coin.toss())"
   ]
  },
  {
   "cell_type": "code",
   "execution_count": 89,
   "id": "b6176c10",
   "metadata": {},
   "outputs": [
    {
     "data": {
      "text/plain": [
       "0.62604"
      ]
     },
     "execution_count": 89,
     "metadata": {},
     "output_type": "execute_result"
    }
   ],
   "source": [
    "(num_trials-np.sum(outcomes))/num_trials"
   ]
  },
  {
   "cell_type": "markdown",
   "id": "d7e08a1b",
   "metadata": {},
   "source": [
    "In this particular formulation, the frequentist answer wins. However, there is another formulation of the experiment that I would like to test before closing the issue.\n",
    "\n",
    "Experiment #2:\n",
    "\n",
    "    (1) sample a coin at random from the bag\n",
    "    (2) toss the coin once: if tails, go back to (1), if heads, toss again and record outcome\n",
    "    (3) count the number of times the second toss outcome is heads"
   ]
  },
  {
   "cell_type": "code",
   "execution_count": 86,
   "id": "27ef339b",
   "metadata": {},
   "outputs": [],
   "source": [
    "outcomes = list()\n",
    "num_trials = 200000\n",
    "while len(outcomes) < num_trials:\n",
    "    \n",
    "    rand_coin = bag.draw_coin()\n",
    "    first_toss = rand_coin.toss()\n",
    "    if first_toss == 0:\n",
    "        outcomes.append(rand_coin.toss())"
   ]
  },
  {
   "cell_type": "code",
   "execution_count": 87,
   "id": "00521bf2",
   "metadata": {},
   "outputs": [
    {
     "data": {
      "text/plain": [
       "0.649935"
      ]
     },
     "execution_count": 87,
     "metadata": {},
     "output_type": "execute_result"
    }
   ],
   "source": [
    "(num_trials-np.sum(outcomes))/num_trials"
   ]
  },
  {
   "cell_type": "markdown",
   "id": "c12744db",
   "metadata": {},
   "source": [
    "In this case, the Bayesian estimate wins. Thus, we can see that the frequentist and Bayesian approaches each have their own place depending on the context. In the first experiment, since the tosses are independent, waiting until we observe the first toss has no affect on the probability. In the second experiment, however, we re-sample the coin from the bag until the first toss outcome is heads. It is this crucial step of re-sampling from the bag until the first heads outcome that produces the Bayesian result."
   ]
  }
 ],
 "metadata": {
  "kernelspec": {
   "display_name": "Python 3 (ipykernel)",
   "language": "python",
   "name": "python3"
  },
  "language_info": {
   "codemirror_mode": {
    "name": "ipython",
    "version": 3
   },
   "file_extension": ".py",
   "mimetype": "text/x-python",
   "name": "python",
   "nbconvert_exporter": "python",
   "pygments_lexer": "ipython3",
   "version": "3.9.0"
  }
 },
 "nbformat": 4,
 "nbformat_minor": 5
}
